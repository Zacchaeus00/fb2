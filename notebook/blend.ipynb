{
 "cells": [
  {
   "cell_type": "code",
   "execution_count": 9,
   "id": "a7807049-fc5b-44b9-811f-31e6d8d284de",
   "metadata": {},
   "outputs": [],
   "source": [
    "import numpy as np\n",
    "import pandas as pd\n",
    "from sklearn.metrics import log_loss\n",
    "from scipy.special import softmax\n",
    "import torch\n",
    "def get_score(logits, labels):\n",
    "    probs = softmax(logits, axis=1)\n",
    "    probs = np.clip(probs, 1e-15, 1 - 1e-15)\n",
    "    return log_loss(labels, probs, labels=[0, 1, 2])\n",
    "LABEL_MAPPING = {\"Ineffective\": 0, \"Adequate\": 1, \"Effective\": 2}\n",
    "# oof_paths = [\n",
    "#     '../ckpt/train2/exp2/oof.gz',\n",
    "#     '../ckpt/train2/exp3/oof.gz',\n",
    "#     '../ckpt/train2/exp4/oof.gz',\n",
    "#     '../ckpt/train2/exp5/oof.gz',\n",
    "#     '../ckpt/train2/exp6/oof.gz',\n",
    "# ]\n",
    "oof_paths = [\n",
    "    '../ckpt/train5/exp2/oof.gz',\n",
    "    '../ckpt/train5/exp3/oof.gz',\n",
    "    '../ckpt/train5/exp4/oof.gz',\n",
    "]"
   ]
  },
  {
   "cell_type": "code",
   "execution_count": 10,
   "id": "f5088745-0c87-40e0-b7f5-3c2fd471419f",
   "metadata": {},
   "outputs": [
    {
     "data": {
      "text/html": [
       "<div>\n",
       "<style scoped>\n",
       "    .dataframe tbody tr th:only-of-type {\n",
       "        vertical-align: middle;\n",
       "    }\n",
       "\n",
       "    .dataframe tbody tr th {\n",
       "        vertical-align: top;\n",
       "    }\n",
       "\n",
       "    .dataframe thead th {\n",
       "        text-align: right;\n",
       "    }\n",
       "</style>\n",
       "<table border=\"1\" class=\"dataframe\">\n",
       "  <thead>\n",
       "    <tr style=\"text-align: right;\">\n",
       "      <th></th>\n",
       "      <th>discourse_id</th>\n",
       "      <th>label</th>\n",
       "    </tr>\n",
       "  </thead>\n",
       "  <tbody>\n",
       "    <tr>\n",
       "      <th>0</th>\n",
       "      <td>0013cc385424</td>\n",
       "      <td>1</td>\n",
       "    </tr>\n",
       "    <tr>\n",
       "      <th>1</th>\n",
       "      <td>9704a709b505</td>\n",
       "      <td>1</td>\n",
       "    </tr>\n",
       "    <tr>\n",
       "      <th>2</th>\n",
       "      <td>c22adee811b6</td>\n",
       "      <td>1</td>\n",
       "    </tr>\n",
       "    <tr>\n",
       "      <th>3</th>\n",
       "      <td>a10d361e54e4</td>\n",
       "      <td>1</td>\n",
       "    </tr>\n",
       "    <tr>\n",
       "      <th>4</th>\n",
       "      <td>db3e453ec4e2</td>\n",
       "      <td>1</td>\n",
       "    </tr>\n",
       "    <tr>\n",
       "      <th>...</th>\n",
       "      <td>...</td>\n",
       "      <td>...</td>\n",
       "    </tr>\n",
       "    <tr>\n",
       "      <th>36760</th>\n",
       "      <td>9f63b687e76a</td>\n",
       "      <td>1</td>\n",
       "    </tr>\n",
       "    <tr>\n",
       "      <th>36761</th>\n",
       "      <td>9d5bd7d86212</td>\n",
       "      <td>1</td>\n",
       "    </tr>\n",
       "    <tr>\n",
       "      <th>36762</th>\n",
       "      <td>f1b78becd573</td>\n",
       "      <td>1</td>\n",
       "    </tr>\n",
       "    <tr>\n",
       "      <th>36763</th>\n",
       "      <td>cc184624ca8e</td>\n",
       "      <td>0</td>\n",
       "    </tr>\n",
       "    <tr>\n",
       "      <th>36764</th>\n",
       "      <td>c8a973681feb</td>\n",
       "      <td>0</td>\n",
       "    </tr>\n",
       "  </tbody>\n",
       "</table>\n",
       "<p>36765 rows × 2 columns</p>\n",
       "</div>"
      ],
      "text/plain": [
       "       discourse_id  label\n",
       "0      0013cc385424      1\n",
       "1      9704a709b505      1\n",
       "2      c22adee811b6      1\n",
       "3      a10d361e54e4      1\n",
       "4      db3e453ec4e2      1\n",
       "...             ...    ...\n",
       "36760  9f63b687e76a      1\n",
       "36761  9d5bd7d86212      1\n",
       "36762  f1b78becd573      1\n",
       "36763  cc184624ca8e      0\n",
       "36764  c8a973681feb      0\n",
       "\n",
       "[36765 rows x 2 columns]"
      ]
     },
     "execution_count": 10,
     "metadata": {},
     "output_type": "execute_result"
    }
   ],
   "source": [
    "train = pd.read_csv('../data/train_processed.csv')\n",
    "train['label'] = train['discourse_effectiveness'].map(LABEL_MAPPING)\n",
    "train = train[['discourse_id', 'label']]\n",
    "train"
   ]
  },
  {
   "cell_type": "code",
   "execution_count": 11,
   "id": "c44c4cca-f4f0-4748-85dd-19e5b9aca678",
   "metadata": {},
   "outputs": [
    {
     "data": {
      "text/html": [
       "<div>\n",
       "<style scoped>\n",
       "    .dataframe tbody tr th:only-of-type {\n",
       "        vertical-align: middle;\n",
       "    }\n",
       "\n",
       "    .dataframe tbody tr th {\n",
       "        vertical-align: top;\n",
       "    }\n",
       "\n",
       "    .dataframe thead th {\n",
       "        text-align: right;\n",
       "    }\n",
       "</style>\n",
       "<table border=\"1\" class=\"dataframe\">\n",
       "  <thead>\n",
       "    <tr style=\"text-align: right;\">\n",
       "      <th></th>\n",
       "      <th>discourse_id</th>\n",
       "      <th>label</th>\n",
       "      <th>logits0</th>\n",
       "      <th>logits1</th>\n",
       "      <th>logits2</th>\n",
       "    </tr>\n",
       "  </thead>\n",
       "  <tbody>\n",
       "    <tr>\n",
       "      <th>0</th>\n",
       "      <td>0013cc385424</td>\n",
       "      <td>1</td>\n",
       "      <td>[-0.065736614, 2.109253, -1.1399033]</td>\n",
       "      <td>[0.99210924, 2.407321, -1.0702925]</td>\n",
       "      <td>[-0.47663593, 2.1981802, 0.40335074]</td>\n",
       "    </tr>\n",
       "    <tr>\n",
       "      <th>1</th>\n",
       "      <td>9704a709b505</td>\n",
       "      <td>1</td>\n",
       "      <td>[-0.49648172, 2.5704458, -0.7708018]</td>\n",
       "      <td>[0.45190388, 2.871887, -0.64158386]</td>\n",
       "      <td>[-0.312719, 2.6083314, 0.24635275]</td>\n",
       "    </tr>\n",
       "    <tr>\n",
       "      <th>2</th>\n",
       "      <td>c22adee811b6</td>\n",
       "      <td>1</td>\n",
       "      <td>[-0.07207063, 2.5864592, -1.2251159]</td>\n",
       "      <td>[1.3263549, 2.697746, -1.3674811]</td>\n",
       "      <td>[0.49606887, 2.6142902, -0.5667403]</td>\n",
       "    </tr>\n",
       "    <tr>\n",
       "      <th>3</th>\n",
       "      <td>a10d361e54e4</td>\n",
       "      <td>1</td>\n",
       "      <td>[0.61130714, 2.1531703, -1.8563699]</td>\n",
       "      <td>[2.1603744, 2.2281132, -2.068038]</td>\n",
       "      <td>[1.6152817, 2.117956, -1.6766869]</td>\n",
       "    </tr>\n",
       "    <tr>\n",
       "      <th>4</th>\n",
       "      <td>db3e453ec4e2</td>\n",
       "      <td>1</td>\n",
       "      <td>[1.4018849, 1.9339651, -2.6617582]</td>\n",
       "      <td>[2.0052373, 2.384714, -2.2006426]</td>\n",
       "      <td>[1.5351976, 2.1482847, -1.7772292]</td>\n",
       "    </tr>\n",
       "    <tr>\n",
       "      <th>...</th>\n",
       "      <td>...</td>\n",
       "      <td>...</td>\n",
       "      <td>...</td>\n",
       "      <td>...</td>\n",
       "      <td>...</td>\n",
       "    </tr>\n",
       "    <tr>\n",
       "      <th>36760</th>\n",
       "      <td>9f63b687e76a</td>\n",
       "      <td>1</td>\n",
       "      <td>[-0.1617219, 1.977808, -1.1096228]</td>\n",
       "      <td>[-1.0977044, 2.1887925, 0.04002488]</td>\n",
       "      <td>[-1.259913, 2.082045, 0.8110388]</td>\n",
       "    </tr>\n",
       "    <tr>\n",
       "      <th>36761</th>\n",
       "      <td>9d5bd7d86212</td>\n",
       "      <td>1</td>\n",
       "      <td>[0.4799295, 1.775178, -1.6695095]</td>\n",
       "      <td>[0.13648616, 2.0000517, -1.1262543]</td>\n",
       "      <td>[0.53358126, 1.6555904, -0.9122732]</td>\n",
       "    </tr>\n",
       "    <tr>\n",
       "      <th>36762</th>\n",
       "      <td>f1b78becd573</td>\n",
       "      <td>1</td>\n",
       "      <td>[-0.27862364, 1.7382803, -0.8383986]</td>\n",
       "      <td>[-0.19035743, 1.5058018, -0.38897157]</td>\n",
       "      <td>[0.18011151, 1.5651275, -0.5547949]</td>\n",
       "    </tr>\n",
       "    <tr>\n",
       "      <th>36763</th>\n",
       "      <td>cc184624ca8e</td>\n",
       "      <td>0</td>\n",
       "      <td>[0.44017765, 1.6714985, -1.5087857]</td>\n",
       "      <td>[0.9619142, 1.57134, -1.8059206]</td>\n",
       "      <td>[0.70432526, 1.733619, -1.2330422]</td>\n",
       "    </tr>\n",
       "    <tr>\n",
       "      <th>36764</th>\n",
       "      <td>c8a973681feb</td>\n",
       "      <td>0</td>\n",
       "      <td>[0.43897015, 2.035177, -1.6945612]</td>\n",
       "      <td>[0.18125023, 2.286291, -1.604517]</td>\n",
       "      <td>[0.013822836, 2.6248772, -1.1227645]</td>\n",
       "    </tr>\n",
       "  </tbody>\n",
       "</table>\n",
       "<p>36765 rows × 5 columns</p>\n",
       "</div>"
      ],
      "text/plain": [
       "       discourse_id  label                               logits0  \\\n",
       "0      0013cc385424      1  [-0.065736614, 2.109253, -1.1399033]   \n",
       "1      9704a709b505      1  [-0.49648172, 2.5704458, -0.7708018]   \n",
       "2      c22adee811b6      1  [-0.07207063, 2.5864592, -1.2251159]   \n",
       "3      a10d361e54e4      1   [0.61130714, 2.1531703, -1.8563699]   \n",
       "4      db3e453ec4e2      1    [1.4018849, 1.9339651, -2.6617582]   \n",
       "...             ...    ...                                   ...   \n",
       "36760  9f63b687e76a      1    [-0.1617219, 1.977808, -1.1096228]   \n",
       "36761  9d5bd7d86212      1     [0.4799295, 1.775178, -1.6695095]   \n",
       "36762  f1b78becd573      1  [-0.27862364, 1.7382803, -0.8383986]   \n",
       "36763  cc184624ca8e      0   [0.44017765, 1.6714985, -1.5087857]   \n",
       "36764  c8a973681feb      0    [0.43897015, 2.035177, -1.6945612]   \n",
       "\n",
       "                                     logits1  \\\n",
       "0         [0.99210924, 2.407321, -1.0702925]   \n",
       "1        [0.45190388, 2.871887, -0.64158386]   \n",
       "2          [1.3263549, 2.697746, -1.3674811]   \n",
       "3          [2.1603744, 2.2281132, -2.068038]   \n",
       "4          [2.0052373, 2.384714, -2.2006426]   \n",
       "...                                      ...   \n",
       "36760    [-1.0977044, 2.1887925, 0.04002488]   \n",
       "36761    [0.13648616, 2.0000517, -1.1262543]   \n",
       "36762  [-0.19035743, 1.5058018, -0.38897157]   \n",
       "36763       [0.9619142, 1.57134, -1.8059206]   \n",
       "36764      [0.18125023, 2.286291, -1.604517]   \n",
       "\n",
       "                                    logits2  \n",
       "0      [-0.47663593, 2.1981802, 0.40335074]  \n",
       "1        [-0.312719, 2.6083314, 0.24635275]  \n",
       "2       [0.49606887, 2.6142902, -0.5667403]  \n",
       "3         [1.6152817, 2.117956, -1.6766869]  \n",
       "4        [1.5351976, 2.1482847, -1.7772292]  \n",
       "...                                     ...  \n",
       "36760      [-1.259913, 2.082045, 0.8110388]  \n",
       "36761   [0.53358126, 1.6555904, -0.9122732]  \n",
       "36762   [0.18011151, 1.5651275, -0.5547949]  \n",
       "36763    [0.70432526, 1.733619, -1.2330422]  \n",
       "36764  [0.013822836, 2.6248772, -1.1227645]  \n",
       "\n",
       "[36765 rows x 5 columns]"
      ]
     },
     "execution_count": 11,
     "metadata": {},
     "output_type": "execute_result"
    }
   ],
   "source": [
    "for i, oof_path in enumerate(oof_paths):\n",
    "    oof = pd.read_pickle(oof_path)\n",
    "    assert(len(oof)==len(train))\n",
    "    oof = oof.rename(columns={'logits': f'logits{i}'})\n",
    "    train = train.merge(oof, on='discourse_id', how='inner')\n",
    "train"
   ]
  },
  {
   "cell_type": "code",
   "execution_count": 12,
   "id": "ccd68d5e-79e0-436d-bafc-a2b313ae8476",
   "metadata": {},
   "outputs": [
    {
     "name": "stdout",
     "output_type": "stream",
     "text": [
      "0 0.6312894161383654\n",
      "1 0.6399274641953246\n",
      "2 0.6343677029917978\n"
     ]
    }
   ],
   "source": [
    "labels = train['label'].values\n",
    "all_logits = []\n",
    "for i in range(len(oof_paths)):\n",
    "    logits = np.vstack(train[f'logits{i}'].values)\n",
    "    all_logits.append(logits)\n",
    "    score = get_score(logits, labels)\n",
    "    print(i, score)"
   ]
  },
  {
   "cell_type": "code",
   "execution_count": 13,
   "id": "d5461f50-6366-4732-ae40-257a7e8dbce5",
   "metadata": {},
   "outputs": [
    {
     "data": {
      "text/plain": [
       "(36765, 3)"
      ]
     },
     "execution_count": 13,
     "metadata": {},
     "output_type": "execute_result"
    }
   ],
   "source": [
    "all_logits = np.stack(all_logits)\n",
    "avg_logits = np.average(all_logits, weights=np.ones(len(oof_paths)), axis=0)\n",
    "avg_logits.shape"
   ]
  },
  {
   "cell_type": "code",
   "execution_count": 14,
   "id": "4c68ccba-b3e0-4455-be0a-2a32778d3785",
   "metadata": {},
   "outputs": [
    {
     "data": {
      "text/plain": [
       "0.6213799740439903"
      ]
     },
     "execution_count": 14,
     "metadata": {},
     "output_type": "execute_result"
    }
   ],
   "source": [
    "get_score(avg_logits, labels)"
   ]
  },
  {
   "cell_type": "code",
   "execution_count": 15,
   "id": "3e50fc15-526b-4e14-adc4-1698ef145e6c",
   "metadata": {},
   "outputs": [],
   "source": [
    "def get_score_pt(logits, labels):\n",
    "    logits = torch.tensor(logits, requires_grad=False)\n",
    "    labels = torch.tensor(labels, requires_grad=False)\n",
    "    return torch.nn.functional.cross_entropy(logits, labels).item()"
   ]
  },
  {
   "cell_type": "code",
   "execution_count": 16,
   "id": "8dcc6ec9-1ca5-4885-bffe-40d84f66c375",
   "metadata": {},
   "outputs": [
    {
     "data": {
      "text/plain": [
       "0.6213799740439903"
      ]
     },
     "execution_count": 16,
     "metadata": {},
     "output_type": "execute_result"
    }
   ],
   "source": [
    "get_score_pt(avg_logits, labels)"
   ]
  },
  {
   "cell_type": "raw",
   "id": "1f0c990e-7d28-4997-ad44-e95473ec2a03",
   "metadata": {},
   "source": []
  }
 ],
 "metadata": {
  "kernelspec": {
   "display_name": "Python 3 (ipykernel)",
   "language": "python",
   "name": "python3"
  },
  "language_info": {
   "codemirror_mode": {
    "name": "ipython",
    "version": 3
   },
   "file_extension": ".py",
   "mimetype": "text/x-python",
   "name": "python",
   "nbconvert_exporter": "python",
   "pygments_lexer": "ipython3",
   "version": "3.8.11"
  }
 },
 "nbformat": 4,
 "nbformat_minor": 5
}
