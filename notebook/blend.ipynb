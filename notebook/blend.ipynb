{
 "cells": [
  {
   "cell_type": "code",
   "execution_count": 5,
   "id": "a7807049-fc5b-44b9-811f-31e6d8d284de",
   "metadata": {},
   "outputs": [],
   "source": [
    "import numpy as np\n",
    "import pandas as pd\n",
    "from sklearn.metrics import log_loss\n",
    "from scipy.special import softmax\n",
    "import torch\n",
    "def get_score(logits, labels):\n",
    "    probs = softmax(logits, axis=1)\n",
    "    probs = np.clip(probs, 1e-15, 1 - 1e-15)\n",
    "    return log_loss(labels, probs, labels=[0, 1, 2])\n",
    "LABEL_MAPPING = {\"Ineffective\": 0, \"Adequate\": 1, \"Effective\": 2}\n",
    "# oof_paths = [\n",
    "#     '../ckpt/train2/exp2/oof.gz',\n",
    "#     '../ckpt/train2/exp3/oof.gz',\n",
    "#     '../ckpt/train2/exp4/oof.gz',\n",
    "#     '../ckpt/train2/exp5/oof.gz',\n",
    "#     '../ckpt/train2/exp6/oof.gz',\n",
    "# ]\n",
    "oof_paths = [\n",
    "    '../ckpt/train6/exp5/oof.gz',\n",
    "    '../ckpt/train8/exp0/oof.gz',\n",
    "]"
   ]
  },
  {
   "cell_type": "code",
   "execution_count": 6,
   "id": "f5088745-0c87-40e0-b7f5-3c2fd471419f",
   "metadata": {},
   "outputs": [
    {
     "data": {
      "text/html": [
       "<div>\n",
       "<style scoped>\n",
       "    .dataframe tbody tr th:only-of-type {\n",
       "        vertical-align: middle;\n",
       "    }\n",
       "\n",
       "    .dataframe tbody tr th {\n",
       "        vertical-align: top;\n",
       "    }\n",
       "\n",
       "    .dataframe thead th {\n",
       "        text-align: right;\n",
       "    }\n",
       "</style>\n",
       "<table border=\"1\" class=\"dataframe\">\n",
       "  <thead>\n",
       "    <tr style=\"text-align: right;\">\n",
       "      <th></th>\n",
       "      <th>discourse_id</th>\n",
       "      <th>label</th>\n",
       "    </tr>\n",
       "  </thead>\n",
       "  <tbody>\n",
       "    <tr>\n",
       "      <th>0</th>\n",
       "      <td>0013cc385424</td>\n",
       "      <td>1</td>\n",
       "    </tr>\n",
       "    <tr>\n",
       "      <th>1</th>\n",
       "      <td>9704a709b505</td>\n",
       "      <td>1</td>\n",
       "    </tr>\n",
       "    <tr>\n",
       "      <th>2</th>\n",
       "      <td>c22adee811b6</td>\n",
       "      <td>1</td>\n",
       "    </tr>\n",
       "    <tr>\n",
       "      <th>3</th>\n",
       "      <td>a10d361e54e4</td>\n",
       "      <td>1</td>\n",
       "    </tr>\n",
       "    <tr>\n",
       "      <th>4</th>\n",
       "      <td>db3e453ec4e2</td>\n",
       "      <td>1</td>\n",
       "    </tr>\n",
       "    <tr>\n",
       "      <th>...</th>\n",
       "      <td>...</td>\n",
       "      <td>...</td>\n",
       "    </tr>\n",
       "    <tr>\n",
       "      <th>36760</th>\n",
       "      <td>9f63b687e76a</td>\n",
       "      <td>1</td>\n",
       "    </tr>\n",
       "    <tr>\n",
       "      <th>36761</th>\n",
       "      <td>9d5bd7d86212</td>\n",
       "      <td>1</td>\n",
       "    </tr>\n",
       "    <tr>\n",
       "      <th>36762</th>\n",
       "      <td>f1b78becd573</td>\n",
       "      <td>1</td>\n",
       "    </tr>\n",
       "    <tr>\n",
       "      <th>36763</th>\n",
       "      <td>cc184624ca8e</td>\n",
       "      <td>0</td>\n",
       "    </tr>\n",
       "    <tr>\n",
       "      <th>36764</th>\n",
       "      <td>c8a973681feb</td>\n",
       "      <td>0</td>\n",
       "    </tr>\n",
       "  </tbody>\n",
       "</table>\n",
       "<p>36765 rows × 2 columns</p>\n",
       "</div>"
      ],
      "text/plain": [
       "       discourse_id  label\n",
       "0      0013cc385424      1\n",
       "1      9704a709b505      1\n",
       "2      c22adee811b6      1\n",
       "3      a10d361e54e4      1\n",
       "4      db3e453ec4e2      1\n",
       "...             ...    ...\n",
       "36760  9f63b687e76a      1\n",
       "36761  9d5bd7d86212      1\n",
       "36762  f1b78becd573      1\n",
       "36763  cc184624ca8e      0\n",
       "36764  c8a973681feb      0\n",
       "\n",
       "[36765 rows x 2 columns]"
      ]
     },
     "execution_count": 6,
     "metadata": {},
     "output_type": "execute_result"
    }
   ],
   "source": [
    "train = pd.read_csv('../data/train_processed.csv')\n",
    "train['label'] = train['discourse_effectiveness'].map(LABEL_MAPPING)\n",
    "train = train[['discourse_id', 'label']]\n",
    "train"
   ]
  },
  {
   "cell_type": "code",
   "execution_count": 7,
   "id": "c44c4cca-f4f0-4748-85dd-19e5b9aca678",
   "metadata": {},
   "outputs": [
    {
     "data": {
      "text/html": [
       "<div>\n",
       "<style scoped>\n",
       "    .dataframe tbody tr th:only-of-type {\n",
       "        vertical-align: middle;\n",
       "    }\n",
       "\n",
       "    .dataframe tbody tr th {\n",
       "        vertical-align: top;\n",
       "    }\n",
       "\n",
       "    .dataframe thead th {\n",
       "        text-align: right;\n",
       "    }\n",
       "</style>\n",
       "<table border=\"1\" class=\"dataframe\">\n",
       "  <thead>\n",
       "    <tr style=\"text-align: right;\">\n",
       "      <th></th>\n",
       "      <th>discourse_id</th>\n",
       "      <th>label</th>\n",
       "      <th>logits0</th>\n",
       "      <th>logits1</th>\n",
       "    </tr>\n",
       "  </thead>\n",
       "  <tbody>\n",
       "    <tr>\n",
       "      <th>0</th>\n",
       "      <td>0013cc385424</td>\n",
       "      <td>1</td>\n",
       "      <td>[-0.55423874, 1.3770996, -2.1689012]</td>\n",
       "      <td>[-0.27665946, 1.7984412, -1.2620152]</td>\n",
       "    </tr>\n",
       "    <tr>\n",
       "      <th>1</th>\n",
       "      <td>9704a709b505</td>\n",
       "      <td>1</td>\n",
       "      <td>[-0.9240722, 1.7347128, -2.1513329]</td>\n",
       "      <td>[-0.9741463, 2.3374555, -0.9911482]</td>\n",
       "    </tr>\n",
       "    <tr>\n",
       "      <th>2</th>\n",
       "      <td>c22adee811b6</td>\n",
       "      <td>1</td>\n",
       "      <td>[-0.35993454, 1.5169164, -2.7781775]</td>\n",
       "      <td>[-0.49320546, 2.2687898, -1.625973]</td>\n",
       "    </tr>\n",
       "    <tr>\n",
       "      <th>3</th>\n",
       "      <td>a10d361e54e4</td>\n",
       "      <td>1</td>\n",
       "      <td>[0.6902696, 1.2148558, -3.4480884]</td>\n",
       "      <td>[0.96353287, 1.8416973, -2.3474236]</td>\n",
       "    </tr>\n",
       "    <tr>\n",
       "      <th>4</th>\n",
       "      <td>db3e453ec4e2</td>\n",
       "      <td>1</td>\n",
       "      <td>[0.49720484, 1.2258257, -3.465635]</td>\n",
       "      <td>[0.7780552, 1.944899, -2.4123056]</td>\n",
       "    </tr>\n",
       "    <tr>\n",
       "      <th>...</th>\n",
       "      <td>...</td>\n",
       "      <td>...</td>\n",
       "      <td>...</td>\n",
       "      <td>...</td>\n",
       "    </tr>\n",
       "    <tr>\n",
       "      <th>36760</th>\n",
       "      <td>9f63b687e76a</td>\n",
       "      <td>1</td>\n",
       "      <td>[-1.8615559, 1.8152055, 0.0059974026]</td>\n",
       "      <td>[-1.7218369, 1.6211671, -0.26119515]</td>\n",
       "    </tr>\n",
       "    <tr>\n",
       "      <th>36761</th>\n",
       "      <td>9d5bd7d86212</td>\n",
       "      <td>1</td>\n",
       "      <td>[-0.33728024, 1.7679042, -1.242108]</td>\n",
       "      <td>[-0.7063968, 1.4261082, -1.3764397]</td>\n",
       "    </tr>\n",
       "    <tr>\n",
       "      <th>36762</th>\n",
       "      <td>f1b78becd573</td>\n",
       "      <td>1</td>\n",
       "      <td>[-1.1473719, 1.5399636, -0.10791637]</td>\n",
       "      <td>[-1.0087718, 1.3393435, -0.6893582]</td>\n",
       "    </tr>\n",
       "    <tr>\n",
       "      <th>36763</th>\n",
       "      <td>cc184624ca8e</td>\n",
       "      <td>0</td>\n",
       "      <td>[-0.2121445, 1.5096043, -0.78673744]</td>\n",
       "      <td>[-0.44260955, 1.2745717, -1.3457791]</td>\n",
       "    </tr>\n",
       "    <tr>\n",
       "      <th>36764</th>\n",
       "      <td>c8a973681feb</td>\n",
       "      <td>0</td>\n",
       "      <td>[0.8050777, 2.0119984, -2.0190783]</td>\n",
       "      <td>[1.2811108, 1.4149468, -3.5282083]</td>\n",
       "    </tr>\n",
       "  </tbody>\n",
       "</table>\n",
       "<p>36765 rows × 4 columns</p>\n",
       "</div>"
      ],
      "text/plain": [
       "       discourse_id  label                                logits0  \\\n",
       "0      0013cc385424      1   [-0.55423874, 1.3770996, -2.1689012]   \n",
       "1      9704a709b505      1    [-0.9240722, 1.7347128, -2.1513329]   \n",
       "2      c22adee811b6      1   [-0.35993454, 1.5169164, -2.7781775]   \n",
       "3      a10d361e54e4      1     [0.6902696, 1.2148558, -3.4480884]   \n",
       "4      db3e453ec4e2      1     [0.49720484, 1.2258257, -3.465635]   \n",
       "...             ...    ...                                    ...   \n",
       "36760  9f63b687e76a      1  [-1.8615559, 1.8152055, 0.0059974026]   \n",
       "36761  9d5bd7d86212      1    [-0.33728024, 1.7679042, -1.242108]   \n",
       "36762  f1b78becd573      1   [-1.1473719, 1.5399636, -0.10791637]   \n",
       "36763  cc184624ca8e      0   [-0.2121445, 1.5096043, -0.78673744]   \n",
       "36764  c8a973681feb      0     [0.8050777, 2.0119984, -2.0190783]   \n",
       "\n",
       "                                    logits1  \n",
       "0      [-0.27665946, 1.7984412, -1.2620152]  \n",
       "1       [-0.9741463, 2.3374555, -0.9911482]  \n",
       "2       [-0.49320546, 2.2687898, -1.625973]  \n",
       "3       [0.96353287, 1.8416973, -2.3474236]  \n",
       "4         [0.7780552, 1.944899, -2.4123056]  \n",
       "...                                     ...  \n",
       "36760  [-1.7218369, 1.6211671, -0.26119515]  \n",
       "36761   [-0.7063968, 1.4261082, -1.3764397]  \n",
       "36762   [-1.0087718, 1.3393435, -0.6893582]  \n",
       "36763  [-0.44260955, 1.2745717, -1.3457791]  \n",
       "36764    [1.2811108, 1.4149468, -3.5282083]  \n",
       "\n",
       "[36765 rows x 4 columns]"
      ]
     },
     "execution_count": 7,
     "metadata": {},
     "output_type": "execute_result"
    }
   ],
   "source": [
    "for i, oof_path in enumerate(oof_paths):\n",
    "    oof = pd.read_pickle(oof_path)\n",
    "    assert(len(oof)==len(train))\n",
    "    oof = oof.rename(columns={'logits': f'logits{i}'})\n",
    "    train = train.merge(oof, on='discourse_id', how='inner')\n",
    "train"
   ]
  },
  {
   "cell_type": "code",
   "execution_count": 8,
   "id": "ccd68d5e-79e0-436d-bafc-a2b313ae8476",
   "metadata": {},
   "outputs": [
    {
     "name": "stdout",
     "output_type": "stream",
     "text": [
      "0 0.6111776288292119\n",
      "1 0.6038716750108646\n"
     ]
    }
   ],
   "source": [
    "labels = train['label'].values\n",
    "all_logits = []\n",
    "for i in range(len(oof_paths)):\n",
    "    logits = np.vstack(train[f'logits{i}'].values)\n",
    "    all_logits.append(logits)\n",
    "    score = get_score(logits, labels)\n",
    "    print(i, score)"
   ]
  },
  {
   "cell_type": "code",
   "execution_count": 9,
   "id": "d5461f50-6366-4732-ae40-257a7e8dbce5",
   "metadata": {},
   "outputs": [
    {
     "data": {
      "text/plain": [
       "(36765, 3)"
      ]
     },
     "execution_count": 9,
     "metadata": {},
     "output_type": "execute_result"
    }
   ],
   "source": [
    "all_logits = np.stack(all_logits)\n",
    "avg_logits = np.average(all_logits, weights=np.ones(len(oof_paths)), axis=0)\n",
    "avg_logits.shape"
   ]
  },
  {
   "cell_type": "code",
   "execution_count": 10,
   "id": "4c68ccba-b3e0-4455-be0a-2a32778d3785",
   "metadata": {},
   "outputs": [
    {
     "data": {
      "text/plain": [
       "0.59928258544284"
      ]
     },
     "execution_count": 10,
     "metadata": {},
     "output_type": "execute_result"
    }
   ],
   "source": [
    "get_score(avg_logits, labels)"
   ]
  },
  {
   "cell_type": "code",
   "execution_count": 11,
   "id": "3e50fc15-526b-4e14-adc4-1698ef145e6c",
   "metadata": {},
   "outputs": [],
   "source": [
    "def get_score_pt(logits, labels):\n",
    "    logits = torch.tensor(logits, requires_grad=False)\n",
    "    labels = torch.tensor(labels, requires_grad=False)\n",
    "    return torch.nn.functional.cross_entropy(logits, labels).item()"
   ]
  },
  {
   "cell_type": "code",
   "execution_count": 12,
   "id": "8dcc6ec9-1ca5-4885-bffe-40d84f66c375",
   "metadata": {},
   "outputs": [
    {
     "data": {
      "text/plain": [
       "0.5992825854428401"
      ]
     },
     "execution_count": 12,
     "metadata": {},
     "output_type": "execute_result"
    }
   ],
   "source": [
    "get_score_pt(avg_logits, labels)"
   ]
  },
  {
   "cell_type": "raw",
   "id": "1f0c990e-7d28-4997-ad44-e95473ec2a03",
   "metadata": {},
   "source": []
  }
 ],
 "metadata": {
  "kernelspec": {
   "display_name": "Python 3",
   "language": "python",
   "name": "python3"
  },
  "language_info": {
   "codemirror_mode": {
    "name": "ipython",
    "version": 3
   },
   "file_extension": ".py",
   "mimetype": "text/x-python",
   "name": "python",
   "nbconvert_exporter": "python",
   "pygments_lexer": "ipython3",
   "version": "3.9.12"
  }
 },
 "nbformat": 4,
 "nbformat_minor": 5
}
