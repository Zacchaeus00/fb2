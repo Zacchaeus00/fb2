{
 "cells": [
  {
   "cell_type": "code",
   "execution_count": 2,
   "id": "0d069042-87cf-4d41-85d2-2f50829905ca",
   "metadata": {},
   "outputs": [],
   "source": [
    "import os\n",
    "import random\n",
    "import warnings\n",
    "\n",
    "import numpy as np\n",
    "import pandas as pd\n",
    "import torch\n",
    "import torch.nn as nn\n",
    "\n",
    "from joblib import Parallel, delayed\n",
    "from sklearn import metrics\n",
    "from tqdm import tqdm\n",
    "\n",
    "from transformers import (\n",
    "    AdamW,\n",
    "    AutoConfig,\n",
    "    AutoModel,\n",
    "    AutoTokenizer,\n",
    "    get_linear_schedule_with_warmup,\n",
    ")\n",
    "os.environ['TOKENIZERS_PARALLELISM'] = 'false'\n",
    "LABEL_MAPPING = {\"Ineffective\": 0, \"Adequate\": 1, \"Effective\": 2}"
   ]
  },
  {
   "cell_type": "code",
   "execution_count": 3,
   "id": "cedf5d12-ef7e-4a39-b64d-04481e76cecb",
   "metadata": {},
   "outputs": [],
   "source": [
    "def prepare_data(indir, tokenizer, df, max_len):\n",
    "    training_samples = []\n",
    "    for _, row in tqdm(df.iterrows(), total=len(df)):\n",
    "        id_ = row[\"essay_id\"]\n",
    "        discourse_text = row[\"discourse_text\"]\n",
    "        discourse_type = row[\"discourse_type\"]\n",
    "\n",
    "        filename = os.path.join(indir, id_ + \".txt\")\n",
    "\n",
    "        with open(filename, \"r\") as f:\n",
    "            text = f.read()\n",
    "\n",
    "        encoding = tokenizer.encode_plus(\n",
    "            discourse_type + \" \" + discourse_text,\n",
    "            text,\n",
    "            truncation='only_second',\n",
    "            max_length=max_len\n",
    "        )\n",
    "\n",
    "        sample = {\n",
    "            \"discourse_id\": row[\"discourse_id\"],\n",
    "            \"fold\": row[\"kfold\"],\n",
    "            **encoding,\n",
    "        }\n",
    "\n",
    "        if \"discourse_effectiveness\" in row:\n",
    "            label = row[\"discourse_effectiveness\"]\n",
    "            sample[\"label\"] = LABEL_MAPPING[label]\n",
    "\n",
    "        training_samples.append(sample)\n",
    "    return training_samples\n",
    "def prepare_data_mp(indir, tokenizer, df, max_len, j=8):\n",
    "    training_samples = []\n",
    "\n",
    "    df_splits = np.array_split(df, j)\n",
    "\n",
    "    results = Parallel(n_jobs=j, backend=\"multiprocessing\")(\n",
    "        delayed(prepare_data)(indir, tokenizer, df, max_len) for df in df_splits\n",
    "    )\n",
    "    for result in results:\n",
    "        training_samples.extend(result)\n",
    "\n",
    "    return training_samples"
   ]
  },
  {
   "cell_type": "code",
   "execution_count": 4,
   "id": "00f7464c-56e7-4689-a169-b13c11dc0312",
   "metadata": {},
   "outputs": [
    {
     "data": {
      "text/html": [
       "<div>\n",
       "<style scoped>\n",
       "    .dataframe tbody tr th:only-of-type {\n",
       "        vertical-align: middle;\n",
       "    }\n",
       "\n",
       "    .dataframe tbody tr th {\n",
       "        vertical-align: top;\n",
       "    }\n",
       "\n",
       "    .dataframe thead th {\n",
       "        text-align: right;\n",
       "    }\n",
       "</style>\n",
       "<table border=\"1\" class=\"dataframe\">\n",
       "  <thead>\n",
       "    <tr style=\"text-align: right;\">\n",
       "      <th></th>\n",
       "      <th>discourse_id</th>\n",
       "      <th>essay_id</th>\n",
       "      <th>discourse_text</th>\n",
       "      <th>discourse_type</th>\n",
       "      <th>discourse_effectiveness</th>\n",
       "      <th>kfold</th>\n",
       "    </tr>\n",
       "  </thead>\n",
       "  <tbody>\n",
       "    <tr>\n",
       "      <th>0</th>\n",
       "      <td>267e18642581</td>\n",
       "      <td>28D8A6A8A99D</td>\n",
       "      <td>For example if there is a tie in the Electoral...</td>\n",
       "      <td>Evidence</td>\n",
       "      <td>Effective</td>\n",
       "      <td>3</td>\n",
       "    </tr>\n",
       "    <tr>\n",
       "      <th>1</th>\n",
       "      <td>96e13c3a2475</td>\n",
       "      <td>CDBECBAD7FCE</td>\n",
       "      <td>I need to say it is very cool.</td>\n",
       "      <td>Claim</td>\n",
       "      <td>Ineffective</td>\n",
       "      <td>4</td>\n",
       "    </tr>\n",
       "    <tr>\n",
       "      <th>2</th>\n",
       "      <td>63025df09e33</td>\n",
       "      <td>43FDEB1E411C</td>\n",
       "      <td>Using this techology more kids will get good g...</td>\n",
       "      <td>Concluding Statement</td>\n",
       "      <td>Adequate</td>\n",
       "      <td>4</td>\n",
       "    </tr>\n",
       "    <tr>\n",
       "      <th>3</th>\n",
       "      <td>3b1a87c5cf9a</td>\n",
       "      <td>722F0DECA31C</td>\n",
       "      <td>The system we have now works,so what will be t...</td>\n",
       "      <td>Claim</td>\n",
       "      <td>Adequate</td>\n",
       "      <td>4</td>\n",
       "    </tr>\n",
       "    <tr>\n",
       "      <th>4</th>\n",
       "      <td>4cb9af0970b2</td>\n",
       "      <td>5934838B26AD</td>\n",
       "      <td>Most of the times the choices someone will mak...</td>\n",
       "      <td>Evidence</td>\n",
       "      <td>Effective</td>\n",
       "      <td>2</td>\n",
       "    </tr>\n",
       "    <tr>\n",
       "      <th>...</th>\n",
       "      <td>...</td>\n",
       "      <td>...</td>\n",
       "      <td>...</td>\n",
       "      <td>...</td>\n",
       "      <td>...</td>\n",
       "      <td>...</td>\n",
       "    </tr>\n",
       "    <tr>\n",
       "      <th>36760</th>\n",
       "      <td>82f7539c3b4f</td>\n",
       "      <td>CFB5BFF82CDE</td>\n",
       "      <td>it was a great idea to join the program becaus...</td>\n",
       "      <td>Claim</td>\n",
       "      <td>Adequate</td>\n",
       "      <td>2</td>\n",
       "    </tr>\n",
       "    <tr>\n",
       "      <th>36761</th>\n",
       "      <td>3357ad5ace5a</td>\n",
       "      <td>550B399B17B3</td>\n",
       "      <td>Lucky for us we live in a pretty good town com...</td>\n",
       "      <td>Evidence</td>\n",
       "      <td>Adequate</td>\n",
       "      <td>3</td>\n",
       "    </tr>\n",
       "    <tr>\n",
       "      <th>36762</th>\n",
       "      <td>42ca0aee6d7d</td>\n",
       "      <td>7F63036D0C59</td>\n",
       "      <td>Most software for online schooling costs very ...</td>\n",
       "      <td>Evidence</td>\n",
       "      <td>Adequate</td>\n",
       "      <td>3</td>\n",
       "    </tr>\n",
       "    <tr>\n",
       "      <th>36763</th>\n",
       "      <td>50be1d88a927</td>\n",
       "      <td>AA4620DAA6CF</td>\n",
       "      <td>But as i think abut it , the president is not ...</td>\n",
       "      <td>Claim</td>\n",
       "      <td>Adequate</td>\n",
       "      <td>1</td>\n",
       "    </tr>\n",
       "    <tr>\n",
       "      <th>36764</th>\n",
       "      <td>14251715bdef</td>\n",
       "      <td>77E7C5CFF241</td>\n",
       "      <td>the new technolgy would be very valuable for s...</td>\n",
       "      <td>Position</td>\n",
       "      <td>Adequate</td>\n",
       "      <td>1</td>\n",
       "    </tr>\n",
       "  </tbody>\n",
       "</table>\n",
       "<p>36765 rows × 6 columns</p>\n",
       "</div>"
      ],
      "text/plain": [
       "       discourse_id      essay_id  \\\n",
       "0      267e18642581  28D8A6A8A99D   \n",
       "1      96e13c3a2475  CDBECBAD7FCE   \n",
       "2      63025df09e33  43FDEB1E411C   \n",
       "3      3b1a87c5cf9a  722F0DECA31C   \n",
       "4      4cb9af0970b2  5934838B26AD   \n",
       "...             ...           ...   \n",
       "36760  82f7539c3b4f  CFB5BFF82CDE   \n",
       "36761  3357ad5ace5a  550B399B17B3   \n",
       "36762  42ca0aee6d7d  7F63036D0C59   \n",
       "36763  50be1d88a927  AA4620DAA6CF   \n",
       "36764  14251715bdef  77E7C5CFF241   \n",
       "\n",
       "                                          discourse_text  \\\n",
       "0      For example if there is a tie in the Electoral...   \n",
       "1                        I need to say it is very cool.    \n",
       "2      Using this techology more kids will get good g...   \n",
       "3      The system we have now works,so what will be t...   \n",
       "4      Most of the times the choices someone will mak...   \n",
       "...                                                  ...   \n",
       "36760  it was a great idea to join the program becaus...   \n",
       "36761  Lucky for us we live in a pretty good town com...   \n",
       "36762  Most software for online schooling costs very ...   \n",
       "36763  But as i think abut it , the president is not ...   \n",
       "36764  the new technolgy would be very valuable for s...   \n",
       "\n",
       "             discourse_type discourse_effectiveness  kfold  \n",
       "0                  Evidence               Effective      3  \n",
       "1                     Claim             Ineffective      4  \n",
       "2      Concluding Statement                Adequate      4  \n",
       "3                     Claim                Adequate      4  \n",
       "4                  Evidence               Effective      2  \n",
       "...                     ...                     ...    ...  \n",
       "36760                 Claim                Adequate      2  \n",
       "36761              Evidence                Adequate      3  \n",
       "36762              Evidence                Adequate      3  \n",
       "36763                 Claim                Adequate      1  \n",
       "36764              Position                Adequate      1  \n",
       "\n",
       "[36765 rows x 6 columns]"
      ]
     },
     "execution_count": 4,
     "metadata": {},
     "output_type": "execute_result"
    }
   ],
   "source": [
    "df = pd.read_csv('../data/train_folds.csv')\n",
    "df"
   ]
  },
  {
   "cell_type": "code",
   "execution_count": 5,
   "id": "3603f623-a407-4a23-8091-af88eb155fa1",
   "metadata": {},
   "outputs": [
    {
     "name": "stderr",
     "output_type": "stream",
     "text": [
      "Special tokens have been added in the vocabulary, make sure the associated word embeddings are fine-tuned or trained.\n",
      "/Users/yuchenwang/miniconda3/envs/kaggle/lib/python3.10/site-packages/transformers/convert_slow_tokenizer.py:434: UserWarning: The sentencepiece tokenizer that you are converting to a fast tokenizer uses the byte fallback option which is not implemented in the fast tokenizers. In practice this means that the fast version of the tokenizer can produce unknown tokens whereas the sentencepiece version would have converted these unknown tokens into a sequence of byte tokens matching the original piece of text.\n",
      "  warnings.warn(\n",
      "Special tokens have been added in the vocabulary, make sure the associated word embeddings are fine-tuned or trained.\n"
     ]
    }
   ],
   "source": [
    "tokenizer = AutoTokenizer.from_pretrained('microsoft/deberta-v3-large')"
   ]
  },
  {
   "cell_type": "code",
   "execution_count": 7,
   "id": "df386dae-7e4a-4f12-b5b9-f0c580772d43",
   "metadata": {},
   "outputs": [
    {
     "name": "stderr",
     "output_type": "stream",
     "text": [
      "100%|████████████████████████████████████| 36765/36765 [00:43<00:00, 839.12it/s]\n"
     ]
    },
    {
     "data": {
      "text/plain": [
       "(36765,\n",
       " ['discourse_id',\n",
       "  'fold',\n",
       "  'input_ids',\n",
       "  'token_type_ids',\n",
       "  'attention_mask',\n",
       "  'label'])"
      ]
     },
     "execution_count": 7,
     "metadata": {},
     "output_type": "execute_result"
    }
   ],
   "source": [
    "samples = prepare_data('../data/feedback-prize-effectiveness/train', tokenizer, df, max_len=1024)\n",
    "len(samples), list(samples[0].keys())"
   ]
  },
  {
   "cell_type": "code",
   "execution_count": 10,
   "id": "d37a27b6-3d71-4376-86d6-948d04167c9b",
   "metadata": {},
   "outputs": [],
   "source": [
    "lens = [len(s['input_ids']) for s in samples]"
   ]
  },
  {
   "cell_type": "code",
   "execution_count": 11,
   "id": "0a9ffe1b-459e-41b8-bb96-3be60767581d",
   "metadata": {},
   "outputs": [
    {
     "data": {
      "text/plain": [
       "(568.0345709234326, 520.0, 1024, 982.0, 1024.0)"
      ]
     },
     "execution_count": 11,
     "metadata": {},
     "output_type": "execute_result"
    }
   ],
   "source": [
    "np.mean(lens), np.median(lens), np.max(lens), np.quantile(lens, 0.9), np.quantile(lens, 0.95)"
   ]
  },
  {
   "cell_type": "code",
   "execution_count": 12,
   "id": "06940f7d-4633-482c-91cc-ca3205c97827",
   "metadata": {},
   "outputs": [
    {
     "data": {
      "text/plain": [
       "'[CLS] Evidence For example if there is a tie in the Electoral vote the election would be handed to the House of Representatives, where state delegations vote on the presedent. This wouldnt be fair because since each state casts only one vote, then the single representativ from Wyoming would only represent 500,000 voters. However the single representative from California would represent 35 million voters. That hardly seems fair.[SEP] Dear State Senator, The Electoral College is a process where voters select electors who then vote for the President of the United State. But is it really that reliable? Is it better than an election decided by that of popular vote. The election process should be changed to one decided by popular vote instead of using the process of the Electoral College. First of all source two states that voters can sometimes get confused on the candidate that they actually voted for since they\\'re not direclty voting for the President. Another flaw of the Electoral College also stated in source two is that \"... \"faithless\" electors have occasionally refused to vote for their party\\'s candidate and cast a deciding vote for whomever they please....\" That is pure lying. That basically just made that voter vote for the candidate that they did not want. Another critical error is that in the process of the Electoral College is that not all states are equally represented. For example if there is a tie in the Electoral vote the election would be handed to the House of Representatives, where state delegations vote on the presedent. This wouldnt be fair because since each state casts only one vote, then the single representativ from Wyoming would only represent 500,000 voters. However the single representative from California would represent 35 million voters. That hardly seems fair. With Popular vote every American would get their say in a democratic way. As source three states \"... the Electoral College is not democratic in a modern sense. With popular vote everyone would be represented equally. I understand that \"the winning candidate\\'s share of the Electoral College invariably exceeds his share of the popular vote\" causes less chance of a dispute over the Electoral college than of the popular vote, but not everyone really gets a say. Also i understand that the Electoral College avoids run off elections but that is still very rare. State Senator it\\'s time to abolish the Electoral college, and switch to the use of popular vote for elections.[SEP]'"
      ]
     },
     "execution_count": 12,
     "metadata": {},
     "output_type": "execute_result"
    }
   ],
   "source": [
    "tokenizer.decode(samples[0]['input_ids'])"
   ]
  },
  {
   "cell_type": "code",
   "execution_count": 15,
   "id": "62df2a7e-884a-4c4f-a2fc-4c4cf9197388",
   "metadata": {},
   "outputs": [
    {
     "data": {
      "text/plain": [
       "'267e18642581'"
      ]
     },
     "execution_count": 15,
     "metadata": {},
     "output_type": "execute_result"
    }
   ],
   "source": [
    "samples[0]['discourse_id']"
   ]
  },
  {
   "cell_type": "code",
   "execution_count": 16,
   "id": "77c6af00-8f47-4dc4-9dff-9b43482dc1b5",
   "metadata": {},
   "outputs": [
    {
     "data": {
      "text/html": [
       "<div>\n",
       "<style scoped>\n",
       "    .dataframe tbody tr th:only-of-type {\n",
       "        vertical-align: middle;\n",
       "    }\n",
       "\n",
       "    .dataframe tbody tr th {\n",
       "        vertical-align: top;\n",
       "    }\n",
       "\n",
       "    .dataframe thead th {\n",
       "        text-align: right;\n",
       "    }\n",
       "</style>\n",
       "<table border=\"1\" class=\"dataframe\">\n",
       "  <thead>\n",
       "    <tr style=\"text-align: right;\">\n",
       "      <th></th>\n",
       "      <th>discourse_id</th>\n",
       "      <th>essay_id</th>\n",
       "      <th>discourse_text</th>\n",
       "      <th>discourse_type</th>\n",
       "      <th>discourse_effectiveness</th>\n",
       "      <th>kfold</th>\n",
       "    </tr>\n",
       "  </thead>\n",
       "  <tbody>\n",
       "    <tr>\n",
       "      <th>0</th>\n",
       "      <td>267e18642581</td>\n",
       "      <td>28D8A6A8A99D</td>\n",
       "      <td>For example if there is a tie in the Electoral...</td>\n",
       "      <td>Evidence</td>\n",
       "      <td>Effective</td>\n",
       "      <td>3</td>\n",
       "    </tr>\n",
       "  </tbody>\n",
       "</table>\n",
       "</div>"
      ],
      "text/plain": [
       "   discourse_id      essay_id  \\\n",
       "0  267e18642581  28D8A6A8A99D   \n",
       "\n",
       "                                      discourse_text discourse_type  \\\n",
       "0  For example if there is a tie in the Electoral...       Evidence   \n",
       "\n",
       "  discourse_effectiveness  kfold  \n",
       "0               Effective      3  "
      ]
     },
     "execution_count": 16,
     "metadata": {},
     "output_type": "execute_result"
    }
   ],
   "source": [
    "df[df['discourse_id']==samples[0]['discourse_id']]"
   ]
  },
  {
   "cell_type": "code",
   "execution_count": 17,
   "id": "64a64c31-fedc-4e5a-8a07-e77558136f3a",
   "metadata": {},
   "outputs": [
    {
     "data": {
      "text/plain": [
       "2"
      ]
     },
     "execution_count": 17,
     "metadata": {},
     "output_type": "execute_result"
    }
   ],
   "source": [
    "samples[0]['label']"
   ]
  },
  {
   "cell_type": "code",
   "execution_count": null,
   "id": "1ee8526c-9e50-47ee-adae-17e4fb3e2b70",
   "metadata": {},
   "outputs": [],
   "source": []
  }
 ],
 "metadata": {
  "kernelspec": {
   "display_name": "Python 3 (ipykernel)",
   "language": "python",
   "name": "python3"
  },
  "language_info": {
   "codemirror_mode": {
    "name": "ipython",
    "version": 3
   },
   "file_extension": ".py",
   "mimetype": "text/x-python",
   "name": "python",
   "nbconvert_exporter": "python",
   "pygments_lexer": "ipython3",
   "version": "3.10.4"
  }
 },
 "nbformat": 4,
 "nbformat_minor": 5
}
