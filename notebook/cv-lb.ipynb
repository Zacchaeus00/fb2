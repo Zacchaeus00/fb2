{
 "cells": [
  {
   "cell_type": "code",
   "execution_count": 4,
   "id": "57188160-ac80-4b01-b8ae-d492a5d2e5d6",
   "metadata": {},
   "outputs": [],
   "source": [
    "import numpy as np\n",
    "import matplotlib.pyplot as plt"
   ]
  },
  {
   "cell_type": "code",
   "execution_count": 6,
   "id": "03fe91f0-bba9-4bb0-8d00-5a68eaa1bc39",
   "metadata": {},
   "outputs": [],
   "source": [
    "cv = [.625, .634, .640, .631, .652, .670, .676]\n",
    "lb = [.620, .617, .628, .627, .613, .638, .645]"
   ]
  },
  {
   "cell_type": "code",
   "execution_count": 7,
   "id": "b3657b48-dac3-4915-b48f-22fa7667797a",
   "metadata": {},
   "outputs": [
    {
     "data": {
      "text/plain": [
       "0.71978286480655"
      ]
     },
     "execution_count": 7,
     "metadata": {},
     "output_type": "execute_result"
    }
   ],
   "source": [
    "np.corrcoef(cv, lb)[0][1]"
   ]
  },
  {
   "cell_type": "code",
   "execution_count": 8,
   "id": "b26d1b66-6cb0-40b4-a436-27f7205e01c9",
   "metadata": {},
   "outputs": [
    {
     "data": {
      "text/plain": [
       "<matplotlib.collections.PathCollection at 0x110c8b760>"
      ]
     },
     "execution_count": 8,
     "metadata": {},
     "output_type": "execute_result"
    },
    {
     "data": {
      "image/png": "[encoded data removed]",
      "text/plain": [
       "<Figure size 432x288 with 1 Axes>"
      ]
     },
     "metadata": {
      "needs_background": "light"
     },
     "output_type": "display_data"
    }
   ],
   "source": [
    "plt.scatter(cv, lb)"
   ]
  },
  {
   "cell_type": "code",
   "execution_count": null,
   "id": "1d1e41ed-55d2-4946-bb7e-9b7cc7781781",
   "metadata": {},
   "outputs": [],
   "source": []
  }
 ],
 "metadata": {
  "kernelspec": {
   "display_name": "Python 3 (ipykernel)",
   "language": "python",
   "name": "python3"
  },
  "language_info": {
   "codemirror_mode": {
    "name": "ipython",
    "version": 3
   },
   "file_extension": ".py",
   "mimetype": "text/x-python",
   "name": "python",
   "nbconvert_exporter": "python",
   "pygments_lexer": "ipython3",
   "version": "3.8.11"
  }
 },
 "nbformat": 4,
 "nbformat_minor": 5
}
