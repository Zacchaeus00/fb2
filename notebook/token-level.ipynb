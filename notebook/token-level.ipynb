{
 "cells": [
  {
   "cell_type": "code",
   "execution_count": 1,
   "id": "a76545d0-5d2f-4c29-bf97-28a3796bffb0",
   "metadata": {},
   "outputs": [
    {
     "name": "stderr",
     "output_type": "stream",
     "text": [
      "Special tokens have been added in the vocabulary, make sure the associated word embeddings are fine-tuned or trained.\n",
      "/Users/yuchenwang/miniconda3/envs/kaggle/lib/python3.10/site-packages/transformers/convert_slow_tokenizer.py:434: UserWarning: The sentencepiece tokenizer that you are converting to a fast tokenizer uses the byte fallback option which is not implemented in the fast tokenizers. In practice this means that the fast version of the tokenizer can produce unknown tokens whereas the sentencepiece version would have converted these unknown tokens into a sequence of byte tokens matching the original piece of text.\n",
      "  warnings.warn(\n",
      "Special tokens have been added in the vocabulary, make sure the associated word embeddings are fine-tuned or trained.\n"
     ]
    }
   ],
   "source": [
    "import pandas as pd\n",
    "from tqdm import tqdm\n",
    "from transformers import AutoTokenizer\n",
    "tokenizer = AutoTokenizer.from_pretrained('microsoft/deberta-v3-base')\n",
    "LABEL_MAPPING = {\"Ineffective\": 0, \"Adequate\": 1, \"Effective\": 2}"
   ]
  },
  {
   "cell_type": "code",
   "execution_count": 2,
   "id": "ccd88317-87ea-43a0-870a-4f7e736a0801",
   "metadata": {},
   "outputs": [
    {
     "data": {
      "text/plain": [
       "essay_id\n",
       "007ACE74B050    hi, i'm isaac, i'm going to be writing about h...\n",
       "00944C693682    limiting the usage of cars has personal and pr...\n",
       "00BD97EA4041    should computers read the emotional expression...\n",
       "00C6E82FE5BA    i think that it wouldn't be valueable to have ...\n",
       "013B9AA6B9DB    what is that thing on mars? well, some people ...\n",
       "                                      ...                        \n",
       "FDF0AEEB14C3    going to school everyday can be difficult for ...\n",
       "FE3CA06DDCA1    why is it when someone asks you for advice the...\n",
       "FEF42864AE28    during a long day at school, have you ever tho...\n",
       "FF9E0379CD98    some school offer distence learning as a optio...\n",
       "FFA381E58FC6    some people may ask multiple people for advice...\n",
       "Name: essay_text, Length: 4191, dtype: object"
      ]
     },
     "execution_count": 2,
     "metadata": {},
     "output_type": "execute_result"
    }
   ],
   "source": [
    "essay = pd.read_csv('../data/essay_processed.csv')\n",
    "essay = essay.set_index('essay_id').squeeze()\n",
    "essay"
   ]
  },
  {
   "cell_type": "code",
   "execution_count": 3,
   "id": "48192bd5-1891-4fac-afe5-3b1853ba4f59",
   "metadata": {},
   "outputs": [
    {
     "data": {
      "text/html": [
       "<div>\n",
       "<style scoped>\n",
       "    .dataframe tbody tr th:only-of-type {\n",
       "        vertical-align: middle;\n",
       "    }\n",
       "\n",
       "    .dataframe tbody tr th {\n",
       "        vertical-align: top;\n",
       "    }\n",
       "\n",
       "    .dataframe thead th {\n",
       "        text-align: right;\n",
       "    }\n",
       "</style>\n",
       "<table border=\"1\" class=\"dataframe\">\n",
       "  <thead>\n",
       "    <tr style=\"text-align: right;\">\n",
       "      <th></th>\n",
       "      <th>discourse_id</th>\n",
       "      <th>essay_id</th>\n",
       "      <th>discourse_text</th>\n",
       "      <th>discourse_type</th>\n",
       "      <th>discourse_effectiveness</th>\n",
       "      <th>discourse_text_processed</th>\n",
       "      <th>kfold</th>\n",
       "    </tr>\n",
       "  </thead>\n",
       "  <tbody>\n",
       "    <tr>\n",
       "      <th>0</th>\n",
       "      <td>0013cc385424</td>\n",
       "      <td>007ACE74B050</td>\n",
       "      <td>Hi, i'm Isaac, i'm going to be writing about h...</td>\n",
       "      <td>Lead</td>\n",
       "      <td>Adequate</td>\n",
       "      <td>hi, i'm isaac, i'm going to be writing about h...</td>\n",
       "      <td>2</td>\n",
       "    </tr>\n",
       "    <tr>\n",
       "      <th>1</th>\n",
       "      <td>9704a709b505</td>\n",
       "      <td>007ACE74B050</td>\n",
       "      <td>On my perspective, I think that the face is a ...</td>\n",
       "      <td>Position</td>\n",
       "      <td>Adequate</td>\n",
       "      <td>on my perspective, i think that the face is a ...</td>\n",
       "      <td>2</td>\n",
       "    </tr>\n",
       "    <tr>\n",
       "      <th>2</th>\n",
       "      <td>c22adee811b6</td>\n",
       "      <td>007ACE74B050</td>\n",
       "      <td>I think that the face is a natural landform be...</td>\n",
       "      <td>Claim</td>\n",
       "      <td>Adequate</td>\n",
       "      <td>i think that the face is a natural landform be...</td>\n",
       "      <td>2</td>\n",
       "    </tr>\n",
       "    <tr>\n",
       "      <th>3</th>\n",
       "      <td>a10d361e54e4</td>\n",
       "      <td>007ACE74B050</td>\n",
       "      <td>If life was on Mars, we would know by now. The...</td>\n",
       "      <td>Evidence</td>\n",
       "      <td>Adequate</td>\n",
       "      <td>if life was on mars, we would know by now. the...</td>\n",
       "      <td>2</td>\n",
       "    </tr>\n",
       "    <tr>\n",
       "      <th>4</th>\n",
       "      <td>db3e453ec4e2</td>\n",
       "      <td>007ACE74B050</td>\n",
       "      <td>People thought that the face was formed by ali...</td>\n",
       "      <td>Counterclaim</td>\n",
       "      <td>Adequate</td>\n",
       "      <td>people thought that the face was formed by ali...</td>\n",
       "      <td>2</td>\n",
       "    </tr>\n",
       "    <tr>\n",
       "      <th>...</th>\n",
       "      <td>...</td>\n",
       "      <td>...</td>\n",
       "      <td>...</td>\n",
       "      <td>...</td>\n",
       "      <td>...</td>\n",
       "      <td>...</td>\n",
       "      <td>...</td>\n",
       "    </tr>\n",
       "    <tr>\n",
       "      <th>36760</th>\n",
       "      <td>9f63b687e76a</td>\n",
       "      <td>FFA381E58FC6</td>\n",
       "      <td>For many people they don't like only asking on...</td>\n",
       "      <td>Claim</td>\n",
       "      <td>Adequate</td>\n",
       "      <td>for many people they don't like only asking on...</td>\n",
       "      <td>1</td>\n",
       "    </tr>\n",
       "    <tr>\n",
       "      <th>36761</th>\n",
       "      <td>9d5bd7d86212</td>\n",
       "      <td>FFA381E58FC6</td>\n",
       "      <td>also people have different views and opinions ...</td>\n",
       "      <td>Claim</td>\n",
       "      <td>Adequate</td>\n",
       "      <td>also people have different views and opinions ...</td>\n",
       "      <td>1</td>\n",
       "    </tr>\n",
       "    <tr>\n",
       "      <th>36762</th>\n",
       "      <td>f1b78becd573</td>\n",
       "      <td>FFA381E58FC6</td>\n",
       "      <td>Advice is something that can impact a persons ...</td>\n",
       "      <td>Position</td>\n",
       "      <td>Adequate</td>\n",
       "      <td>advice is something that can impact a persons ...</td>\n",
       "      <td>1</td>\n",
       "    </tr>\n",
       "    <tr>\n",
       "      <th>36763</th>\n",
       "      <td>cc184624ca8e</td>\n",
       "      <td>FFA381E58FC6</td>\n",
       "      <td>someone can use everything that many people sa...</td>\n",
       "      <td>Evidence</td>\n",
       "      <td>Ineffective</td>\n",
       "      <td>someone can use everything that many people sa...</td>\n",
       "      <td>1</td>\n",
       "    </tr>\n",
       "    <tr>\n",
       "      <th>36764</th>\n",
       "      <td>c8a973681feb</td>\n",
       "      <td>FFA381E58FC6</td>\n",
       "      <td>In conclusion asking for an opinion can be ben...</td>\n",
       "      <td>Concluding Statement</td>\n",
       "      <td>Ineffective</td>\n",
       "      <td>in conclusion asking for an opinion can be ben...</td>\n",
       "      <td>1</td>\n",
       "    </tr>\n",
       "  </tbody>\n",
       "</table>\n",
       "<p>36765 rows × 7 columns</p>\n",
       "</div>"
      ],
      "text/plain": [
       "       discourse_id      essay_id  \\\n",
       "0      0013cc385424  007ACE74B050   \n",
       "1      9704a709b505  007ACE74B050   \n",
       "2      c22adee811b6  007ACE74B050   \n",
       "3      a10d361e54e4  007ACE74B050   \n",
       "4      db3e453ec4e2  007ACE74B050   \n",
       "...             ...           ...   \n",
       "36760  9f63b687e76a  FFA381E58FC6   \n",
       "36761  9d5bd7d86212  FFA381E58FC6   \n",
       "36762  f1b78becd573  FFA381E58FC6   \n",
       "36763  cc184624ca8e  FFA381E58FC6   \n",
       "36764  c8a973681feb  FFA381E58FC6   \n",
       "\n",
       "                                          discourse_text  \\\n",
       "0      Hi, i'm Isaac, i'm going to be writing about h...   \n",
       "1      On my perspective, I think that the face is a ...   \n",
       "2      I think that the face is a natural landform be...   \n",
       "3      If life was on Mars, we would know by now. The...   \n",
       "4      People thought that the face was formed by ali...   \n",
       "...                                                  ...   \n",
       "36760  For many people they don't like only asking on...   \n",
       "36761  also people have different views and opinions ...   \n",
       "36762  Advice is something that can impact a persons ...   \n",
       "36763  someone can use everything that many people sa...   \n",
       "36764  In conclusion asking for an opinion can be ben...   \n",
       "\n",
       "             discourse_type discourse_effectiveness  \\\n",
       "0                      Lead                Adequate   \n",
       "1                  Position                Adequate   \n",
       "2                     Claim                Adequate   \n",
       "3                  Evidence                Adequate   \n",
       "4              Counterclaim                Adequate   \n",
       "...                     ...                     ...   \n",
       "36760                 Claim                Adequate   \n",
       "36761                 Claim                Adequate   \n",
       "36762              Position                Adequate   \n",
       "36763              Evidence             Ineffective   \n",
       "36764  Concluding Statement             Ineffective   \n",
       "\n",
       "                                discourse_text_processed  kfold  \n",
       "0      hi, i'm isaac, i'm going to be writing about h...      2  \n",
       "1      on my perspective, i think that the face is a ...      2  \n",
       "2      i think that the face is a natural landform be...      2  \n",
       "3      if life was on mars, we would know by now. the...      2  \n",
       "4      people thought that the face was formed by ali...      2  \n",
       "...                                                  ...    ...  \n",
       "36760  for many people they don't like only asking on...      1  \n",
       "36761  also people have different views and opinions ...      1  \n",
       "36762  advice is something that can impact a persons ...      1  \n",
       "36763  someone can use everything that many people sa...      1  \n",
       "36764  in conclusion asking for an opinion can be ben...      1  \n",
       "\n",
       "[36765 rows x 7 columns]"
      ]
     },
     "execution_count": 3,
     "metadata": {},
     "output_type": "execute_result"
    }
   ],
   "source": [
    "train = pd.read_csv('../data/train_processed.csv')\n",
    "train"
   ]
  },
  {
   "cell_type": "code",
   "execution_count": 4,
   "id": "93f7e7fe-a534-48dc-96fd-223e559f218d",
   "metadata": {},
   "outputs": [],
   "source": [
    "def get_tag(discourse_type):\n",
    "    return f'<{discourse_type.lower()}>'\n",
    "\n",
    "def insert_tag(text, dtext, dtype, start=0):\n",
    "    tag = get_tag(dtype)\n",
    "    sidx = text.find(dtext, start)\n",
    "    if sidx == -1:\n",
    "        raise KeyError\n",
    "    text = text[:sidx] + ' ' + get_tag(dtype) + ' ' + text[sidx:]\n",
    "    eidx = sidx + len(' ' + get_tag(dtype) + ' ') + len(dtext)\n",
    "    return text, sidx, eidx"
   ]
  },
  {
   "cell_type": "code",
   "execution_count": 5,
   "id": "a45e7278-144d-410b-9ee1-82a4a92731ec",
   "metadata": {},
   "outputs": [],
   "source": [
    "def prepare_data_token_cls(essay, train, tokenizer):\n",
    "    samples = []\n",
    "    for eid in tqdm(essay.index):\n",
    "        text = essay[eid]\n",
    "        df = train[train['essay_id']==eid]\n",
    "        idxs = []\n",
    "        labels = []\n",
    "        eidx = 0\n",
    "        for _, row in df.iterrows():\n",
    "            dtype = row['discourse_type']\n",
    "            dtext = row['discourse_text_processed']\n",
    "            label = LABEL_MAPPING[row['discourse_effectiveness']]\n",
    "            text, sidx, eidx = insert_tag(text, dtext, dtype, start=eidx)\n",
    "            idxs.append([sidx, eidx])\n",
    "            labels.append(label)\n",
    "        assert(idxs == list(sorted(idxs))), idxs\n",
    "        assert df['kfold'].nunique() == 1, df['kfold'].nunique()\n",
    "        samples.append({'text': text, 'spans': idxs, 'raw_labels': labels, 'fold': df['kfold'].unique()[0]})\n",
    "    for sample in tqdm(samples):\n",
    "        enc = tokenizer(sample['text'], return_offsets_mapping=True, add_special_tokens=False)\n",
    "        seq_len = len(enc['input_ids'])\n",
    "        label = [-100 for _ in range(seq_len)]\n",
    "        for i in range(seq_len):\n",
    "            for j, (s, e) in enumerate(sample['spans']):\n",
    "                if enc['offset_mapping'][i][0] >= s and enc['offset_mapping'][i][0] < e and e > s:\n",
    "                    label[i] = sample['raw_labels'][j]\n",
    "                    break\n",
    "        sample['label'] = label\n",
    "        for k, v in enc.items():\n",
    "            sample[k] = v\n",
    "    return samples"
   ]
  },
  {
   "cell_type": "code",
   "execution_count": 6,
   "id": "80d8bf9c-f6b9-48ba-8812-dfee97d41d1a",
   "metadata": {},
   "outputs": [
    {
     "name": "stderr",
     "output_type": "stream",
     "text": [
      "100%|██████████████████████████████████████| 4191/4191 [00:06<00:00, 692.25it/s]\n",
      "100%|██████████████████████████████████████| 4191/4191 [00:07<00:00, 539.64it/s]\n"
     ]
    }
   ],
   "source": [
    "samples = prepare_data_token_cls(essay, train, tokenizer)"
   ]
  },
  {
   "cell_type": "code",
   "execution_count": 7,
   "id": "244f02ad-fb94-4b5a-9fff-c4e6a51f9e0f",
   "metadata": {},
   "outputs": [
    {
     "data": {
      "text/plain": [
       "1649"
      ]
     },
     "execution_count": 7,
     "metadata": {},
     "output_type": "execute_result"
    }
   ],
   "source": [
    "max([len(s['input_ids']) for s in samples])"
   ]
  },
  {
   "cell_type": "code",
   "execution_count": 11,
   "id": "7a15021f-5a72-4fbd-aa60-254bc4e328ea",
   "metadata": {},
   "outputs": [
    {
     "name": "stdout",
     "output_type": "stream",
     "text": [
      "{'text': ' <lead> should computers read the emotional expressions of students in a classroom?  <position> no because, why should a computer know how your feeling?  <claim> it wouldn\\'t change the emotion the students feeling. it also wouldn\\'t help with the students education. its over all just a waste of time.  <evidence> the process begins when the computer puts together a 3-d digital model. there are 44 major muscles in your face that the computer has to detect. eckman classified six emotions happiness, surprise, anger, disgust, fear, and sadness. he then \" associated each with characteristic movements of facial muscles.\" for example the frontalis pars lateralis muscle is above your eye which shows your surpried when it is raised. us humans alone can identify facial expressions on peoples faces. if you look at a friend you can tell how they are feeling at that moment. da vinci studied human anatomy to help paint the facial muscles percisely on the mona lisa painting. dr. huangs has new computer software it stores similar info as electronic code. he thinks there could be a different type of code to the painting.  <evidence> when facial facial expressions a made its about muscular action units. the school computer shouldn\\'t have to know how you are feeling. what kind of problem is that supposed to solve?  <claim> this idea is nothing but just a distraction for school students. it also may detect wrong facial expressions.  <concluding statement> to conclusion computers in school shouldn\\'t detect emotions of the students. i have proved my point on why it shouldn\\'t be in school. i have given you several examples from the passage to prove this point. it shoudn\\'t matter if the computer knows how your feeling.', 'spans': [[0, 83], [84, 152], [153, 300], [301, 1119], [1120, 1313], [1315, 1433], [1434, 1722]], 'raw_labels': [1, 1, 1, 0, 1, 1, 1], 'fold': 0, 'label': [1, 1, 1, 1, 1, 1, 1, 1, 1, 1, 1, 1, 1, 1, 1, 1, 1, 1, 1, 1, 1, 1, 1, 1, 1, 1, 1, 1, 1, 1, 1, 1, 1, 1, 1, 1, 1, 1, 1, 1, 1, 1, 1, 1, 1, 1, 1, 1, 1, 1, 1, 1, 1, 1, 1, 1, 1, 1, 1, 1, 1, 1, 1, 1, 0, 0, 0, 0, 0, 0, 0, 0, 0, 0, 0, 0, 0, 0, 0, 0, 0, 0, 0, 0, 0, 0, 0, 0, 0, 0, 0, 0, 0, 0, 0, 0, 0, 0, 0, 0, 0, 0, 0, 0, 0, 0, 0, 0, 0, 0, 0, 0, 0, 0, 0, 0, 0, 0, 0, 0, 0, 0, 0, 0, 0, 0, 0, 0, 0, 0, 0, 0, 0, 0, 0, 0, 0, 0, 0, 0, 0, 0, 0, 0, 0, 0, 0, 0, 0, 0, 0, 0, 0, 0, 0, 0, 0, 0, 0, 0, 0, 0, 0, 0, 0, 0, 0, 0, 0, 0, 0, 0, 0, 0, 0, 0, 0, 0, 0, 0, 0, 0, 0, 0, 0, 0, 0, 0, 0, 0, 0, 0, 0, 0, 0, 0, 0, 0, 0, 0, 0, 0, 0, 0, 0, 0, 0, 0, 0, 0, 0, 0, 0, 0, 0, 0, 0, 0, 0, 0, 0, 0, 0, 0, 0, 0, 0, 0, 0, 0, 0, 0, 0, 0, 1, 1, 1, 1, 1, 1, 1, 1, 1, 1, 1, 1, 1, 1, 1, 1, 1, 1, 1, 1, 1, 1, 1, 1, 1, 1, 1, 1, 1, 1, 1, 1, 1, 1, 1, 1, 1, 1, -100, 1, 1, 1, 1, 1, 1, 1, 1, 1, 1, 1, 1, 1, 1, 1, 1, 1, 1, 1, 1, 1, 1, 1, 1, 1, 1, 1, 1, 1, 1, 1, 1, 1, 1, 1, 1, 1, 1, 1, 1, 1, 1, 1, 1, 1, 1, 1, 1, 1, 1, 1, 1, 1, 1, 1, 1, 1, 1, 1, 1, 1, 1, 1, 1, 1, 1, 1, 1, 1, 1, 1, 1, 1, 1, 1, 1, 1, 1, 1, 1, 1, 1, 1, 1, 1], 'input_ids': [2569, 23960, 1504, 403, 4659, 623, 262, 2955, 10172, 265, 598, 267, 266, 4258, 302, 2569, 19573, 1504, 363, 401, 261, 579, 403, 266, 1214, 391, 361, 290, 1439, 302, 2569, 48981, 1504, 278, 1804, 280, 297, 575, 262, 7770, 262, 598, 1439, 260, 278, 327, 1804, 280, 297, 408, 275, 262, 598, 1082, 260, 359, 360, 305, 348, 266, 2150, 265, 326, 260, 2569, 48819, 1504, 262, 568, 2979, 335, 262, 1214, 4967, 603, 266, 404, 271, 407, 1412, 1040, 260, 343, 281, 4808, 852, 5233, 267, 290, 812, 272, 262, 1214, 303, 264, 6659, 260, 865, 60752, 7419, 1073, 4646, 5116, 261, 2923, 261, 5693, 261, 26817, 261, 2189, 261, 263, 12819, 260, 313, 393, 307, 1635, 448, 275, 8969, 5247, 265, 7324, 5233, 260, 309, 270, 738, 262, 831, 25015, 6047, 268, 734, 25015, 3675, 269, 764, 290, 1572, 319, 1057, 290, 113579, 19894, 335, 278, 269, 2107, 260, 381, 3691, 1585, 295, 2313, 7324, 10172, 277, 355, 268, 3903, 260, 337, 274, 468, 288, 266, 1156, 274, 295, 848, 361, 306, 281, 1439, 288, 272, 1170, 260, 5865, 507, 85134, 4345, 857, 17421, 264, 408, 2586, 262, 7324, 5233, 605, 93044, 701, 277, 262, 18528, 452, 97971, 3111, 260, 17020, 260, 507, 63629, 268, 303, 353, 1214, 1036, 278, 2507, 1058, 2470, 283, 2939, 1197, 260, 313, 5470, 343, 387, 282, 266, 467, 810, 265, 1197, 264, 262, 3111, 260, 2569, 48819, 1504, 335, 7324, 7324, 10172, 266, 412, 359, 314, 16195, 1016, 2339, 260, 262, 563, 1214, 3659, 280, 297, 286, 264, 391, 361, 274, 281, 1439, 260, 339, 747, 265, 735, 269, 272, 2902, 264, 3634, 302, 2569, 48981, 1504, 291, 781, 269, 942, 304, 348, 266, 15053, 270, 563, 598, 260, 278, 327, 372, 6659, 1299, 7324, 10172, 260, 2569, 5699, 100416, 1548, 1504, 264, 4533, 4659, 267, 563, 3659, 280, 297, 6659, 4646, 265, 262, 598, 260, 584, 286, 4776, 312, 582, 277, 579, 278, 3659, 280, 297, 282, 267, 563, 260, 584, 286, 744, 274, 656, 2924, 292, 262, 6155, 264, 3303, 291, 582, 260, 278, 74370, 31263, 280, 297, 912, 337, 262, 1214, 2212, 361, 290, 1439, 260], 'token_type_ids': [0, 0, 0, 0, 0, 0, 0, 0, 0, 0, 0, 0, 0, 0, 0, 0, 0, 0, 0, 0, 0, 0, 0, 0, 0, 0, 0, 0, 0, 0, 0, 0, 0, 0, 0, 0, 0, 0, 0, 0, 0, 0, 0, 0, 0, 0, 0, 0, 0, 0, 0, 0, 0, 0, 0, 0, 0, 0, 0, 0, 0, 0, 0, 0, 0, 0, 0, 0, 0, 0, 0, 0, 0, 0, 0, 0, 0, 0, 0, 0, 0, 0, 0, 0, 0, 0, 0, 0, 0, 0, 0, 0, 0, 0, 0, 0, 0, 0, 0, 0, 0, 0, 0, 0, 0, 0, 0, 0, 0, 0, 0, 0, 0, 0, 0, 0, 0, 0, 0, 0, 0, 0, 0, 0, 0, 0, 0, 0, 0, 0, 0, 0, 0, 0, 0, 0, 0, 0, 0, 0, 0, 0, 0, 0, 0, 0, 0, 0, 0, 0, 0, 0, 0, 0, 0, 0, 0, 0, 0, 0, 0, 0, 0, 0, 0, 0, 0, 0, 0, 0, 0, 0, 0, 0, 0, 0, 0, 0, 0, 0, 0, 0, 0, 0, 0, 0, 0, 0, 0, 0, 0, 0, 0, 0, 0, 0, 0, 0, 0, 0, 0, 0, 0, 0, 0, 0, 0, 0, 0, 0, 0, 0, 0, 0, 0, 0, 0, 0, 0, 0, 0, 0, 0, 0, 0, 0, 0, 0, 0, 0, 0, 0, 0, 0, 0, 0, 0, 0, 0, 0, 0, 0, 0, 0, 0, 0, 0, 0, 0, 0, 0, 0, 0, 0, 0, 0, 0, 0, 0, 0, 0, 0, 0, 0, 0, 0, 0, 0, 0, 0, 0, 0, 0, 0, 0, 0, 0, 0, 0, 0, 0, 0, 0, 0, 0, 0, 0, 0, 0, 0, 0, 0, 0, 0, 0, 0, 0, 0, 0, 0, 0, 0, 0, 0, 0, 0, 0, 0, 0, 0, 0, 0, 0, 0, 0, 0, 0, 0, 0, 0, 0, 0, 0, 0, 0, 0, 0, 0, 0, 0, 0, 0, 0, 0, 0, 0, 0, 0, 0, 0, 0, 0, 0, 0, 0, 0, 0, 0, 0, 0, 0, 0, 0, 0, 0, 0, 0, 0], 'attention_mask': [1, 1, 1, 1, 1, 1, 1, 1, 1, 1, 1, 1, 1, 1, 1, 1, 1, 1, 1, 1, 1, 1, 1, 1, 1, 1, 1, 1, 1, 1, 1, 1, 1, 1, 1, 1, 1, 1, 1, 1, 1, 1, 1, 1, 1, 1, 1, 1, 1, 1, 1, 1, 1, 1, 1, 1, 1, 1, 1, 1, 1, 1, 1, 1, 1, 1, 1, 1, 1, 1, 1, 1, 1, 1, 1, 1, 1, 1, 1, 1, 1, 1, 1, 1, 1, 1, 1, 1, 1, 1, 1, 1, 1, 1, 1, 1, 1, 1, 1, 1, 1, 1, 1, 1, 1, 1, 1, 1, 1, 1, 1, 1, 1, 1, 1, 1, 1, 1, 1, 1, 1, 1, 1, 1, 1, 1, 1, 1, 1, 1, 1, 1, 1, 1, 1, 1, 1, 1, 1, 1, 1, 1, 1, 1, 1, 1, 1, 1, 1, 1, 1, 1, 1, 1, 1, 1, 1, 1, 1, 1, 1, 1, 1, 1, 1, 1, 1, 1, 1, 1, 1, 1, 1, 1, 1, 1, 1, 1, 1, 1, 1, 1, 1, 1, 1, 1, 1, 1, 1, 1, 1, 1, 1, 1, 1, 1, 1, 1, 1, 1, 1, 1, 1, 1, 1, 1, 1, 1, 1, 1, 1, 1, 1, 1, 1, 1, 1, 1, 1, 1, 1, 1, 1, 1, 1, 1, 1, 1, 1, 1, 1, 1, 1, 1, 1, 1, 1, 1, 1, 1, 1, 1, 1, 1, 1, 1, 1, 1, 1, 1, 1, 1, 1, 1, 1, 1, 1, 1, 1, 1, 1, 1, 1, 1, 1, 1, 1, 1, 1, 1, 1, 1, 1, 1, 1, 1, 1, 1, 1, 1, 1, 1, 1, 1, 1, 1, 1, 1, 1, 1, 1, 1, 1, 1, 1, 1, 1, 1, 1, 1, 1, 1, 1, 1, 1, 1, 1, 1, 1, 1, 1, 1, 1, 1, 1, 1, 1, 1, 1, 1, 1, 1, 1, 1, 1, 1, 1, 1, 1, 1, 1, 1, 1, 1, 1, 1, 1, 1, 1, 1, 1, 1, 1, 1, 1, 1, 1, 1, 1, 1, 1, 1, 1, 1, 1, 1, 1, 1], 'offset_mapping': [(1, 2), (2, 6), (6, 7), (7, 14), (14, 24), (24, 29), (29, 33), (33, 43), (43, 55), (55, 58), (58, 67), (67, 70), (70, 72), (72, 82), (82, 83), (84, 86), (86, 94), (94, 95), (95, 98), (98, 106), (106, 107), (107, 111), (111, 118), (118, 120), (120, 129), (129, 134), (134, 138), (138, 143), (143, 151), (151, 152), (153, 155), (155, 160), (160, 161), (161, 164), (164, 171), (171, 172), (172, 173), (173, 180), (180, 184), (184, 192), (192, 196), (196, 205), (205, 213), (213, 214), (214, 217), (217, 222), (222, 229), (229, 230), (230, 231), (231, 236), (236, 241), (241, 245), (245, 254), (254, 264), (264, 265), (265, 269), (269, 274), (274, 278), (278, 283), (283, 285), (285, 291), (291, 294), (294, 299), (299, 300), (301, 303), (303, 311), (311, 312), (312, 316), (316, 324), (324, 331), (331, 336), (336, 340), (340, 349), (349, 354), (354, 363), (363, 365), (365, 367), (367, 368), (368, 369), (369, 377), (377, 383), (383, 384), (384, 390), (390, 394), (394, 397), (397, 403), (403, 411), (411, 414), (414, 419), (419, 424), (424, 429), (429, 433), (433, 442), (442, 446), (446, 449), (449, 456), (456, 457), (457, 459), (459, 464), (464, 475), (475, 479), (479, 488), (488, 498), (498, 499), (499, 508), (508, 509), (509, 515), (515, 516), (516, 524), (524, 525), (525, 530), (530, 531), (531, 535), (535, 543), (543, 544), (544, 547), (547, 552), (552, 554), (554, 565), (565, 570), (570, 575), (575, 590), (590, 600), (600, 603), (603, 610), (610, 618), (618, 619), (619, 620), (620, 624), (624, 632), (632, 636), (636, 642), (642, 646), (646, 650), (650, 651), (651, 657), (657, 661), (661, 668), (668, 671), (671, 677), (677, 682), (682, 686), (686, 692), (692, 698), (698, 703), (703, 709), (709, 712), (712, 717), (717, 720), (720, 723), (723, 730), (730, 731), (731, 734), (734, 741), (741, 747), (747, 751), (751, 760), (760, 767), (767, 779), (779, 782), (782, 789), (789, 790), (790, 796), (796, 797), (797, 800), (800, 804), (804, 809), (809, 812), (812, 814), (814, 821), (821, 825), (825, 829), (829, 834), (834, 838), (838, 843), (843, 847), (847, 855), (855, 858), (858, 863), (863, 870), (870, 871), (871, 874), (874, 875), (875, 880), (880, 888), (888, 894), (894, 902), (902, 905), (905, 910), (910, 916), (916, 920), (920, 927), (927, 935), (935, 939), (939, 943), (943, 945), (945, 948), (948, 952), (952, 956), (956, 957), (957, 962), (962, 971), (971, 972), (972, 975), (975, 976), (976, 977), (977, 982), (982, 983), (983, 987), (987, 991), (991, 1000), (1000, 1009), (1009, 1012), (1012, 1019), (1019, 1027), (1027, 1032), (1032, 1035), (1035, 1046), (1046, 1051), (1051, 1052), (1052, 1055), (1055, 1062), (1062, 1068), (1068, 1074), (1074, 1077), (1077, 1079), (1079, 1089), (1089, 1094), (1094, 1097), (1097, 1102), (1102, 1105), (1105, 1109), (1109, 1118), (1118, 1119), (1120, 1122), (1122, 1130), (1130, 1131), (1131, 1136), (1136, 1143), (1143, 1150), (1150, 1162), (1162, 1164), (1164, 1169), (1169, 1173), (1173, 1179), (1179, 1188), (1188, 1195), (1195, 1201), (1201, 1202), (1202, 1206), (1206, 1213), (1213, 1222), (1222, 1230), (1230, 1231), (1231, 1232), (1232, 1237), (1237, 1240), (1240, 1245), (1245, 1249), (1249, 1253), (1253, 1257), (1257, 1265), (1265, 1266), (1266, 1271), (1271, 1276), (1276, 1279), (1279, 1287), (1287, 1290), (1290, 1295), (1295, 1304), (1304, 1307), (1307, 1313), (1313, 1314), (1315, 1317), (1317, 1322), (1322, 1323), (1323, 1328), (1328, 1333), (1333, 1336), (1336, 1344), (1344, 1348), (1348, 1353), (1353, 1355), (1355, 1367), (1367, 1371), (1371, 1378), (1378, 1387), (1387, 1388), (1388, 1391), (1391, 1396), (1396, 1400), (1400, 1407), (1407, 1413), (1413, 1420), (1420, 1432), (1432, 1433), (1434, 1436), (1436, 1439), (1439, 1446), (1446, 1456), (1456, 1457), (1457, 1460), (1460, 1471), (1471, 1481), (1481, 1484), (1484, 1491), (1491, 1499), (1499, 1500), (1500, 1501), (1501, 1508), (1508, 1517), (1517, 1520), (1520, 1524), (1524, 1533), (1533, 1534), (1534, 1536), (1536, 1541), (1541, 1548), (1548, 1551), (1551, 1557), (1557, 1560), (1560, 1564), (1564, 1567), (1567, 1575), (1575, 1576), (1576, 1577), (1577, 1580), (1580, 1583), (1583, 1590), (1590, 1591), (1591, 1593), (1593, 1598), (1598, 1604), (1604, 1608), (1608, 1616), (1616, 1625), (1625, 1630), (1630, 1634), (1634, 1642), (1642, 1645), (1645, 1651), (1651, 1656), (1656, 1662), (1662, 1663), (1663, 1666), (1666, 1671), (1671, 1673), (1673, 1674), (1674, 1675), (1675, 1682), (1682, 1685), (1685, 1689), (1689, 1698), (1698, 1704), (1704, 1708), (1708, 1713), (1713, 1721), (1721, 1722)]}\n"
     ]
    }
   ],
   "source": [
    "print(samples[2])"
   ]
  },
  {
   "cell_type": "code",
   "execution_count": 13,
   "id": "25064ec2-3a84-4b64-bc66-3623ef8edfd5",
   "metadata": {},
   "outputs": [
    {
     "name": "stdout",
     "output_type": "stream",
     "text": [
      "0 838\n",
      "1 841\n",
      "2 836\n",
      "3 840\n",
      "4 836\n"
     ]
    }
   ],
   "source": [
    "for f in range(5):\n",
    "    samples_f = [s for s in samples if s['fold'] == f]\n",
    "    print(f, len(samples_f))"
   ]
  },
  {
   "cell_type": "code",
   "execution_count": null,
   "id": "3a0e91da-e7ef-4843-9700-b3f0f7510b18",
   "metadata": {},
   "outputs": [],
   "source": []
  }
 ],
 "metadata": {
  "kernelspec": {
   "display_name": "Python 3 (ipykernel)",
   "language": "python",
   "name": "python3"
  },
  "language_info": {
   "codemirror_mode": {
    "name": "ipython",
    "version": 3
   },
   "file_extension": ".py",
   "mimetype": "text/x-python",
   "name": "python",
   "nbconvert_exporter": "python",
   "pygments_lexer": "ipython3",
   "version": "3.10.4"
  }
 },
 "nbformat": 4,
 "nbformat_minor": 5
}
