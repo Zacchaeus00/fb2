{
 "cells": [
  {
   "cell_type": "code",
   "execution_count": 1,
   "id": "ccead64c-2748-42d7-bcd3-8555425b7f0c",
   "metadata": {},
   "outputs": [],
   "source": [
    "from transformers import AutoTokenizer"
   ]
  },
  {
   "cell_type": "code",
   "execution_count": 2,
   "id": "64220678-ac03-4293-ab0b-b9818c81dd37",
   "metadata": {},
   "outputs": [
    {
     "name": "stderr",
     "output_type": "stream",
     "text": [
      "Special tokens have been added in the vocabulary, make sure the associated word embeddings are fine-tuned or trained.\n",
      "/Users/yuchenwang/miniconda3/envs/kaggle/lib/python3.10/site-packages/transformers/convert_slow_tokenizer.py:434: UserWarning: The sentencepiece tokenizer that you are converting to a fast tokenizer uses the byte fallback option which is not implemented in the fast tokenizers. In practice this means that the fast version of the tokenizer can produce unknown tokens whereas the sentencepiece version would have converted these unknown tokens into a sequence of byte tokens matching the original piece of text.\n",
      "  warnings.warn(\n",
      "Special tokens have been added in the vocabulary, make sure the associated word embeddings are fine-tuned or trained.\n"
     ]
    }
   ],
   "source": [
    "tokenizer = AutoTokenizer.from_pretrained('microsoft/deberta-v3-large')\n",
    "enc = tokenizer(['wondering why internet companies'])"
   ]
  },
  {
   "cell_type": "code",
   "execution_count": 3,
   "id": "46f39eb6-1f47-43e8-8449-5218481cdb60",
   "metadata": {},
   "outputs": [
    {
     "data": {
      "text/plain": [
       "{'input_ids': [[1, 4282, 579, 1565, 766, 2]], 'token_type_ids': [[0, 0, 0, 0, 0, 0]], 'attention_mask': [[1, 1, 1, 1, 1, 1]]}"
      ]
     },
     "execution_count": 3,
     "metadata": {},
     "output_type": "execute_result"
    }
   ],
   "source": [
    "enc"
   ]
  },
  {
   "cell_type": "code",
   "execution_count": 5,
   "id": "069a4d76-8fcb-49cf-959c-fac37257dec3",
   "metadata": {},
   "outputs": [
    {
     "name": "stdout",
     "output_type": "stream",
     "text": [
      "1 [CLS]\n",
      "4282 wondering\n",
      "579 why\n",
      "1565 internet\n",
      "766 companies\n",
      "2 [SEP]\n"
     ]
    }
   ],
   "source": [
    "for id in enc['input_ids'][0]:\n",
    "    print(id, tokenizer.decode(id))"
   ]
  },
  {
   "cell_type": "code",
   "execution_count": 10,
   "id": "9e644953-766d-4c9d-8ced-df0219dbdf62",
   "metadata": {},
   "outputs": [
    {
     "data": {
      "text/plain": [
       "({'input_ids': [1, 13563, 2], 'token_type_ids': [0, 0, 0], 'attention_mask': [1, 1, 1]},\n",
       " {'input_ids': [1, 1287, 2], 'token_type_ids': [0, 0, 0], 'attention_mask': [1, 1, 1]},\n",
       " {'input_ids': [1, 344, 9489, 2], 'token_type_ids': [0, 0, 0, 0], 'attention_mask': [1, 1, 1, 1]},\n",
       " {'input_ids': [1, 17799, 2], 'token_type_ids': [0, 0, 0], 'attention_mask': [1, 1, 1]},\n",
       " {'input_ids': [1, 66731, 2], 'token_type_ids': [0, 0, 0], 'attention_mask': [1, 1, 1]},\n",
       " {'input_ids': [1, 5856, 2], 'token_type_ids': [0, 0, 0], 'attention_mask': [1, 1, 1]})"
      ]
     },
     "execution_count": 10,
     "metadata": {},
     "output_type": "execute_result"
    }
   ],
   "source": [
    "tokenizer(\"Effective\"), tokenizer(\"effective\"), tokenizer(\"Ineffective\"), tokenizer(\"ineffective\"), tokenizer(\"Adequate\"), tokenizer(\"adequate\")"
   ]
  },
  {
   "cell_type": "code",
   "execution_count": null,
   "id": "5cca755e-fb71-4709-8f4d-d1b922136eeb",
   "metadata": {},
   "outputs": [],
   "source": []
  }
 ],
 "metadata": {
  "kernelspec": {
   "display_name": "Python 3 (ipykernel)",
   "language": "python",
   "name": "python3"
  },
  "language_info": {
   "codemirror_mode": {
    "name": "ipython",
    "version": 3
   },
   "file_extension": ".py",
   "mimetype": "text/x-python",
   "name": "python",
   "nbconvert_exporter": "python",
   "pygments_lexer": "ipython3",
   "version": "3.10.4"
  }
 },
 "nbformat": 4,
 "nbformat_minor": 5
}
